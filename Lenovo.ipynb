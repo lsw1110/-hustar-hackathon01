{
 "cells": [
  {
   "cell_type": "code",
   "execution_count": 1,
   "id": "08e1dfe3",
   "metadata": {},
   "outputs": [],
   "source": [
    "from konlpy.tag import Kkma\n",
    "import pandas as pd"
   ]
  },
  {
   "cell_type": "code",
   "execution_count": 2,
   "id": "cc0ac01d",
   "metadata": {},
   "outputs": [],
   "source": [
    "# object 생성\n",
    "kkma = Kkma()"
   ]
  },
  {
   "cell_type": "code",
   "execution_count": 3,
   "id": "13a77acd",
   "metadata": {},
   "outputs": [
    {
     "data": {
      "text/plain": [
       "array([['자기소개서'],\n",
       "       ['\"다양한 사람과의 만남\"\\n\\n저는 컴퓨터공학을 전공하였지만 학교를 다니는 동안 학교에서의 수업뿐만 아니라 다양한 경험을하고 다양한 사람을 만났습니다.\\n대학을 다니는동안 2번의 국토대장정을 기획 및 행사진행을 담당하면서 실질적으로 여러 다양한 사람들이 모인 단체를 어떻게 해야 잘 운영해나가고 많은 시행착오를 겪으면서 지속적으로 내면적인 성장을 진행해왔습니다. 사람들과 만나서 단순하게 국토대장정이라고 걷는것만이 아닌 각종 레크레이션과 숙식 등 행사를 하는 동안 전반적인 통솔 및 진행책임을 맡으면서 행사에 있어서 좁은 면 보다는 전체적인 시야를 볼 수 있는 기회가 되었습니다.\\n\\n\"글로벌한 경험\"\\n\\n고등학교 시절 싱가폴로 영어캠프를 떠난적이 있습니다. 생에 첫 해외여행이기에 설레는 마음이 대부분 이었지만 현지에서 여러나라 사람들과 함께 부대끼며 당시 영어를 잘 하지못하더라도 바디랭귀지와 사전을 이용해가며 의사소통을 하면서 흥미진지했던것을 계기로 대학교에 와서 네팔로 해외봉사를 떠났습니다.\\n\\n일반적으로 많은 대학생들이 기업이나 어느 기관의 후원으로 떠나곤 하지만 순수하게 해외봉사와 여행을 같이 하고싶은 마음에 직접 기획하고 직접 사람들을 모집해서 모든걸 직접 한다는것에 중점을 두고 네팔로 다녀왔으며 네팔 뿐만 아니라 라오스로 IT봉사단을 떠난 경험이 있습니다. 외교부 소속의 한국정보화진흥원의 주최로 라오스 현지에서 영어로 강의뿐만아니라 현지인들과 틈틈히 여행을 다니며 지속적인 소통을 통해 하나의 운명공동체를 형성하여 귀국을 한 뒤에도 지속적으로 연락을 통해 소통을 하고 있습니다.']],\n",
       "      dtype=object)"
      ]
     },
     "execution_count": 3,
     "metadata": {},
     "output_type": "execute_result"
    }
   ],
   "source": [
    "# 1. excel file 읽기\n",
    "\n",
    "Location = 'C:/Users/admin/Desktop/Hackathon_File'\n",
    "File = ('자기소개서.xlsx')\n",
    "\n",
    "Row = 1\n",
    "Column = 0\n",
    "\n",
    "data_pd = pd.read_excel('{}/{}'.format(Location, File), engine = 'openpyxl', #xlsx파일을 pandas로 읽어오고 numpy로 변환한다.\n",
    "                       header=None, index_col=None, names=None)\n",
    "data_np = pd.DataFrame.to_numpy(data_pd)\n",
    "#pd_df = pd.DataFrame(data_pd)\n",
    "data_np"
   ]
  },
  {
   "cell_type": "code",
   "execution_count": 4,
   "id": "1a2034bc",
   "metadata": {},
   "outputs": [
    {
     "data": {
      "text/plain": [
       "'\"다양한 사람과의 만남\"\\n\\n저는 컴퓨터공학을 전공하였지만 학교를 다니는 동안 학교에서의 수업뿐만 아니라 다양한 경험을하고 다양한 사람을 만났습니다.\\n대학을 다니는동안 2번의 국토대장정을 기획 및 행사진행을 담당하면서 실질적으로 여러 다양한 사람들이 모인 단체를 어떻게 해야 잘 운영해나가고 많은 시행착오를 겪으면서 지속적으로 내면적인 성장을 진행해왔습니다. 사람들과 만나서 단순하게 국토대장정이라고 걷는것만이 아닌 각종 레크레이션과 숙식 등 행사를 하는 동안 전반적인 통솔 및 진행책임을 맡으면서 행사에 있어서 좁은 면 보다는 전체적인 시야를 볼 수 있는 기회가 되었습니다.\\n\\n\"글로벌한 경험\"\\n\\n고등학교 시절 싱가폴로 영어캠프를 떠난적이 있습니다. 생에 첫 해외여행이기에 설레는 마음이 대부분 이었지만 현지에서 여러나라 사람들과 함께 부대끼며 당시 영어를 잘 하지못하더라도 바디랭귀지와 사전을 이용해가며 의사소통을 하면서 흥미진지했던것을 계기로 대학교에 와서 네팔로 해외봉사를 떠났습니다.\\n\\n일반적으로 많은 대학생들이 기업이나 어느 기관의 후원으로 떠나곤 하지만 순수하게 해외봉사와 여행을 같이 하고싶은 마음에 직접 기획하고 직접 사람들을 모집해서 모든걸 직접 한다는것에 중점을 두고 네팔로 다녀왔으며 네팔 뿐만 아니라 라오스로 IT봉사단을 떠난 경험이 있습니다. 외교부 소속의 한국정보화진흥원의 주최로 라오스 현지에서 영어로 강의뿐만아니라 현지인들과 틈틈히 여행을 다니며 지속적인 소통을 통해 하나의 운명공동체를 형성하여 귀국을 한 뒤에도 지속적으로 연락을 통해 소통을 하고 있습니다.'"
      ]
     },
     "execution_count": 4,
     "metadata": {},
     "output_type": "execute_result"
    }
   ],
   "source": [
    "doc = data_np[Row][Column]\n",
    "doc"
   ]
  },
  {
   "cell_type": "code",
   "execution_count": 5,
   "id": "c5555da2",
   "metadata": {},
   "outputs": [
    {
     "data": {
      "text/plain": [
       "['\" 다양한 사람과의 만남\" 저는 컴퓨터공학을 전공하였지만 학교를 다니는 동안 학교에서의 수업뿐만 아니라 다양한 경험을 하고 다양한 사람을 만났습니다.',\n",
       " '대학을 다니는 동안 2번의 국토 대장 정을 기획 및 행사 진행을 담당하면서 실질적으로 여러 다양한 사람들이 모인 단체를 어떻게 해야 잘 운 영해 나가고 많은 시행착오를 겪으면서 지속적으로 내면 적인 성장을 진행해 왔습니다.',\n",
       " '사람들과 만나서 단순하게 국토 대장 정이라고 걷는 것만이 아닌 각종 레크레이션과 숙식 등 행사를 하는 동안 전반 적인 통솔 및 진행 책임을 맡으면서 행사에 있어서 좁은 면보다는 전체적인 시야를 볼 수 있는 기회가 되었습니다.',\n",
       " '\" 글로벌한 경험\" 고등학교 시절 싱가폴로 영어 캠프를 떠난 적이 있습니다.',\n",
       " '생에 첫 해외여행이기에 설레는 마음이 대부분 이었지만 현지에서 여러 나라 사람들과 함께 부대끼며 당시 영어를 잘 하지 못하더라도 바디 랭귀지와 사전을 이용해 가며 의사소통을 하면서 흥미 진지했던 것을 계기로 대학교에 와서 네 팔로 해외봉사를 떠났습니다.',\n",
       " '일반적으로 많은 대학생들이 기업이나 어느 기관의 후원으로 떠나곤 하지만 순수하게 해외봉사와 여행을 같이 하고 싶은 마음에 직접 기획하고 직접 사람들을 모집해서 모든 걸 직접 한다는 것에 중점을 두고 네 팔로 다녀왔으며 네 팔 뿐만 아니라 라오스로 IT 봉사단을 떠난 경험이 있습니다.',\n",
       " '외교부 소속의 한국 정보화 진흥원의 주최로 라오스 현지에서 영어로 강의뿐만 아니라 현지인들과 틈 틈 히 여행을 다니며 지속적인 소통을 통해 하나의 운명공동체를 형성하여 귀국을 한 뒤에도 지속적으로 연락을 통해 소통을 하고 있습니다.']"
      ]
     },
     "execution_count": 5,
     "metadata": {},
     "output_type": "execute_result"
    }
   ],
   "source": [
    "# 2. doc -> sentence(문단을 문장으로 나누기)\n",
    "ex_sent = kkma.sentences(doc)\n",
    "ex_sent"
   ]
  },
  {
   "cell_type": "code",
   "execution_count": 6,
   "id": "2a6adb80",
   "metadata": {
    "scrolled": false
   },
   "outputs": [
    {
     "data": {
      "text/plain": [
       "['다양',\n",
       " '사람',\n",
       " '만남',\n",
       " '컴퓨터',\n",
       " '컴퓨터공학',\n",
       " '공학',\n",
       " '전공',\n",
       " '학교',\n",
       " '동안',\n",
       " '수업',\n",
       " '경험',\n",
       " '대학',\n",
       " '동안',\n",
       " '국토',\n",
       " '대장',\n",
       " '기획',\n",
       " '행사',\n",
       " '진행',\n",
       " '담당',\n",
       " '실질적',\n",
       " '다양',\n",
       " '사람',\n",
       " '단체',\n",
       " '영해',\n",
       " '시행착오',\n",
       " '지속적',\n",
       " '내면',\n",
       " '적인',\n",
       " '성장',\n",
       " '사람',\n",
       " '단순',\n",
       " '국토',\n",
       " '대장',\n",
       " '각종',\n",
       " '레크레이션',\n",
       " '숙식',\n",
       " '행사',\n",
       " '동안',\n",
       " '전반',\n",
       " '적인',\n",
       " '통솔',\n",
       " '진행',\n",
       " '책임',\n",
       " '전체적',\n",
       " '시야',\n",
       " '기회',\n",
       " '글로벌',\n",
       " '경험',\n",
       " '고등',\n",
       " '고등학교',\n",
       " '학교',\n",
       " '시절',\n",
       " '싱가폴',\n",
       " '영어',\n",
       " '캠프',\n",
       " '해외여행',\n",
       " '마음',\n",
       " '대부분',\n",
       " '현지',\n",
       " '나라',\n",
       " '사람',\n",
       " '당시',\n",
       " '영어',\n",
       " '바디',\n",
       " '랭귀지',\n",
       " '사전',\n",
       " '이용',\n",
       " '의사소통',\n",
       " '흥미',\n",
       " '진지',\n",
       " '계기',\n",
       " '대학교',\n",
       " '해외',\n",
       " '해외봉사',\n",
       " '봉사',\n",
       " '일반적',\n",
       " '대학생',\n",
       " '기업',\n",
       " '기관',\n",
       " '후원',\n",
       " '순수',\n",
       " '해외',\n",
       " '해외봉사',\n",
       " '봉사',\n",
       " '여행',\n",
       " '마음',\n",
       " '직접',\n",
       " '기획',\n",
       " '사람',\n",
       " '모집',\n",
       " '중점',\n",
       " '라오스',\n",
       " '봉사단',\n",
       " '경험',\n",
       " '외교부',\n",
       " '소속',\n",
       " '한국',\n",
       " '정보화',\n",
       " '진흥원',\n",
       " '주최',\n",
       " '라오스',\n",
       " '현지',\n",
       " '영어',\n",
       " '강의',\n",
       " '현지인',\n",
       " '여행',\n",
       " '지속적',\n",
       " '소통',\n",
       " '하나',\n",
       " '운명',\n",
       " '운명공동체',\n",
       " '공동체',\n",
       " '형성',\n",
       " '귀국',\n",
       " '연락']"
      ]
     },
     "execution_count": 6,
     "metadata": {},
     "output_type": "execute_result"
    }
   ],
   "source": [
    "# 4. sentence -> noun\n",
    "from re import match  # 전처리 위해서 정규표현식 관련 re 패키지 import\n",
    "nouns = []\n",
    "for sent in ex_sent : \n",
    "    for noun in kkma.nouns(sent) :\n",
    "        # 단어 전처리 : 2음절 이상, 수사 제외\n",
    "        if len(str(noun)) >= 2 and not(match('^[0-9]', noun)) :\n",
    "            nouns.append(noun)\n",
    "nouns"
   ]
  },
  {
   "cell_type": "code",
   "execution_count": 7,
   "id": "cee52061",
   "metadata": {},
   "outputs": [],
   "source": [
    "word_count={}\n",
    "\n",
    "for noun in nouns:\n",
    "    word_count[noun] = word_count.get(noun,0) + 1"
   ]
  },
  {
   "cell_type": "code",
   "execution_count": 8,
   "id": "32763ed9",
   "metadata": {},
   "outputs": [
    {
     "data": {
      "text/plain": [
       "[('사람', 5),\n",
       " ('동안', 3),\n",
       " ('경험', 3),\n",
       " ('영어', 3),\n",
       " ('다양', 2),\n",
       " ('학교', 2),\n",
       " ('국토', 2),\n",
       " ('대장', 2),\n",
       " ('기획', 2),\n",
       " ('행사', 2)]"
      ]
     },
     "execution_count": 8,
     "metadata": {},
     "output_type": "execute_result"
    }
   ],
   "source": [
    "# 6. top_n\n",
    "from collections import Counter\n",
    "\n",
    "counter = Counter(word_count)\n",
    "\n",
    "top10 = counter.most_common(10)\n",
    "top10"
   ]
  },
  {
   "cell_type": "code",
   "execution_count": 9,
   "id": "b7113904",
   "metadata": {},
   "outputs": [
    {
     "name": "stdout",
     "output_type": "stream",
     "text": [
      "pygame 2.0.1 (SDL 2.0.14, Python 3.7.0)\n",
      "Hello from the pygame community. https://www.pygame.org/contribute.html\n"
     ]
    }
   ],
   "source": [
    "import pytagcloud\n",
    "import webbrowser"
   ]
  },
  {
   "cell_type": "code",
   "execution_count": 10,
   "id": "f68f2290",
   "metadata": {},
   "outputs": [
    {
     "name": "stdout",
     "output_type": "stream",
     "text": [
      "[{'color': (117, 77, 60), 'size': 118, 'tag': '사람'}, {'color': (171, 198, 125), 'size': 80, 'tag': '동안'}, {'color': (116, 54, 99), 'size': 80, 'tag': '경험'}, {'color': (23, 170, 161), 'size': 80, 'tag': '영어'}, {'color': (88, 92, 59), 'size': 58, 'tag': '다양'}, {'color': (88, 180, 101), 'size': 58, 'tag': '학교'}, {'color': (158, 149, 177), 'size': 58, 'tag': '국토'}, {'color': (107, 33, 120), 'size': 58, 'tag': '대장'}, {'color': (125, 45, 82), 'size': 58, 'tag': '기획'}, {'color': (219, 47, 14), 'size': 58, 'tag': '행사'}]\n"
     ]
    },
    {
     "data": {
      "text/plain": [
       "True"
      ]
     },
     "execution_count": 10,
     "metadata": {},
     "output_type": "execute_result"
    }
   ],
   "source": [
    "# tag에 color, size, tag 사전 구성 \n",
    "word_count_list = pytagcloud.make_tags(top10, maxsize=80)\n",
    "# maxsize : 최대 글자크기\n",
    "print(word_count_list)\n",
    "\n",
    "pytagcloud.create_tag_image(word_count_list,\n",
    "                            'wordcloud.jpg',  # 생성될 시각화 파일 이름\n",
    "                            size=(900, 600),  # 사이즈\n",
    "                            fontname='korean', # 한글 시각화를 위해 새로 추가했던 폰트 이름\n",
    "\n",
    "                            rectangular=False)\n",
    "\n",
    " \n",
    "\n",
    "webbrowser.open('wordcloud.jpg')  # 저장된 'wordcloud.jpg' 브라우저로 띄워서 보기"
   ]
  }
 ],
 "metadata": {
  "kernelspec": {
   "display_name": "Python 3",
   "language": "python",
   "name": "python3"
  },
  "language_info": {
   "codemirror_mode": {
    "name": "ipython",
    "version": 3
   },
   "file_extension": ".py",
   "mimetype": "text/x-python",
   "name": "python",
   "nbconvert_exporter": "python",
   "pygments_lexer": "ipython3",
   "version": "3.6.13"
  }
 },
 "nbformat": 4,
 "nbformat_minor": 5
}
